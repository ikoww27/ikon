{
  "cells": [
    {
      "cell_type": "markdown",
      "metadata": {
        "id": "view-in-github",
        "colab_type": "text"
      },
      "source": [
        "<a href=\"https://colab.research.google.com/github/ikoww27/ikon/blob/main/hanacaraka.ipynb\" target=\"_parent\"><img src=\"https://colab.research.google.com/assets/colab-badge.svg\" alt=\"Open In Colab\"/></a>"
      ]
    },
    {
      "cell_type": "code",
      "execution_count": null,
      "metadata": {
        "colab": {
          "base_uri": "https://localhost:8080/"
        },
        "id": "YzY_1u6wpLjB",
        "outputId": "66f270f3-f575-4ce9-9291-43ea27b47154"
      },
      "outputs": [
        {
          "output_type": "stream",
          "name": "stdout",
          "text": [
            "Mounted at /content/drive\n"
          ]
        }
      ],
      "source": [
        "#kode untuk menyambungkan gdrive tempat dataset yang di simpan.\n",
        "from google.colab import drive\n",
        "drive.mount('/content/drive')"
      ]
    },
    {
      "cell_type": "code",
      "execution_count": null,
      "metadata": {
        "id": "zOkOgC-6oykN"
      },
      "outputs": [],
      "source": [
        "import os\n",
        "import random\n",
        "import shutil\n",
        "import tensorflow as tf\n",
        "from tensorflow.keras.preprocessing.image import ImageDataGenerator\n",
        "from shutil import copyfile\n",
        "import matplotlib.pyplot as plt\n",
        "import numpy as np\n",
        "from tensorflow.keras.utils import load_img, img_to_array"
      ]
    },
    {
      "cell_type": "code",
      "execution_count": null,
      "metadata": {
        "colab": {
          "base_uri": "https://localhost:8080/",
          "height": 211
        },
        "id": "jbcIK7QFo6Ey",
        "outputId": "37053128-106d-4804-8fa9-b53277609ca7"
      },
      "outputs": [
        {
          "output_type": "error",
          "ename": "FileNotFoundError",
          "evalue": "[Errno 2] No such file or directory: '/content/drive/MyDrive/dataset/ba'",
          "traceback": [
            "\u001b[0;31m---------------------------------------------------------------------------\u001b[0m",
            "\u001b[0;31mFileNotFoundError\u001b[0m                         Traceback (most recent call last)",
            "\u001b[0;32m<ipython-input-5-bb47a2c20baa>\u001b[0m in \u001b[0;36m<cell line: 25>\u001b[0;34m()\u001b[0m\n\u001b[1;32m     23\u001b[0m \u001b[0;34m\u001b[0m\u001b[0m\n\u001b[1;32m     24\u001b[0m \u001b[0;31m# Menampilkan jumlah dataset di setiap direktori\u001b[0m\u001b[0;34m\u001b[0m\u001b[0;34m\u001b[0m\u001b[0m\n\u001b[0;32m---> 25\u001b[0;31m \u001b[0mprint\u001b[0m\u001b[0;34m(\u001b[0m\u001b[0;34mf\"There are {len(os.listdir(source_path_ba))} images of ba.\"\u001b[0m\u001b[0;34m)\u001b[0m\u001b[0;34m\u001b[0m\u001b[0;34m\u001b[0m\u001b[0m\n\u001b[0m\u001b[1;32m     26\u001b[0m \u001b[0mprint\u001b[0m\u001b[0;34m(\u001b[0m\u001b[0;34mf\"There are {len(os.listdir(source_path_ca))} images of ca.\"\u001b[0m\u001b[0;34m)\u001b[0m\u001b[0;34m\u001b[0m\u001b[0;34m\u001b[0m\u001b[0m\n\u001b[1;32m     27\u001b[0m \u001b[0mprint\u001b[0m\u001b[0;34m(\u001b[0m\u001b[0;34mf\"There are {len(os.listdir(source_path_da))} images of da.\"\u001b[0m\u001b[0;34m)\u001b[0m\u001b[0;34m\u001b[0m\u001b[0;34m\u001b[0m\u001b[0m\n",
            "\u001b[0;31mFileNotFoundError\u001b[0m: [Errno 2] No such file or directory: '/content/drive/MyDrive/dataset/ba'"
          ]
        }
      ],
      "source": [
        "# Tentukan sumber jalur\n",
        "source_path = '/content/drive/MyDrive/dataset'\n",
        "source_path_ba = os.path.join(source_path, 'ba')\n",
        "source_path_ca = os.path.join(source_path, 'ca')\n",
        "source_path_da = os.path.join(source_path, 'da')\n",
        "source_path_dha = os.path.join(source_path, 'dha')\n",
        "source_path_ga = os.path.join(source_path, 'ga')\n",
        "source_path_ha = os.path.join(source_path, 'ha')\n",
        "source_path_ja = os.path.join(source_path, 'ja')\n",
        "source_path_ka = os.path.join(source_path, 'ka')\n",
        "source_path_la = os.path.join(source_path, 'la')\n",
        "source_path_ma = os.path.join(source_path, 'ma')\n",
        "source_path_na = os.path.join(source_path, 'na')\n",
        "source_path_nga = os.path.join(source_path, 'nga')\n",
        "source_path_nya = os.path.join(source_path, 'nya')\n",
        "source_path_pa = os.path.join(source_path, 'pa')\n",
        "source_path_ra = os.path.join(source_path, 'ra')\n",
        "source_path_sa = os.path.join(source_path, 'sa')\n",
        "source_path_ta = os.path.join(source_path, 'ta')\n",
        "source_path_tha = os.path.join(source_path, 'tha')\n",
        "source_path_wa = os.path.join(source_path, 'wa')\n",
        "source_path_ya = os.path.join(source_path, 'ya')\n",
        "\n",
        "# Menampilkan jumlah dataset di setiap direktori\n",
        "print(f\"There are {len(os.listdir(source_path_ba))} images of ba.\")\n",
        "print(f\"There are {len(os.listdir(source_path_ca))} images of ca.\")\n",
        "print(f\"There are {len(os.listdir(source_path_da))} images of da.\")\n",
        "print(f\"There are {len(os.listdir(source_path_dha))} images of dha.\")\n",
        "print(f\"There are {len(os.listdir(source_path_ga))} images of ga.\")\n",
        "print(f\"There are {len(os.listdir(source_path_ha))} images of ha.\")\n",
        "print(f\"There are {len(os.listdir(source_path_ja))} images of ja.\")\n",
        "print(f\"There are {len(os.listdir(source_path_ka))} images of ka.\")\n",
        "print(f\"There are {len(os.listdir(source_path_la))} images of la.\")\n",
        "print(f\"There are {len(os.listdir(source_path_ma))} images of ma.\")\n",
        "print(f\"There are {len(os.listdir(source_path_na))} images of na.\")\n",
        "print(f\"There are {len(os.listdir(source_path_nga))} images of nga.\")\n",
        "print(f\"There are {len(os.listdir(source_path_nya))} images of nya.\")\n",
        "print(f\"There are {len(os.listdir(source_path_pa))} images of pa.\")\n",
        "print(f\"There are {len(os.listdir(source_path_ra))} images of ra.\")\n",
        "print(f\"There are {len(os.listdir(source_path_sa))} images of sa.\")\n",
        "print(f\"There are {len(os.listdir(source_path_ta))} images of ta.\")\n",
        "print(f\"There are {len(os.listdir(source_path_tha))} images of tha.\")\n",
        "print(f\"There are {len(os.listdir(source_path_wa))} images of wa.\")\n",
        "print(f\"There are {len(os.listdir(source_path_ya))} images of ya.\")"
      ]
    },
    {
      "cell_type": "code",
      "execution_count": null,
      "metadata": {
        "id": "Rka9YRIkRcBw"
      },
      "outputs": [],
      "source": [
        "# Membuat Struktur Direktori Training dan Validation untuk Klasifikasi Gambar\n",
        "root_dir = '/content/drive/MyDrive/Untitled Folder'\n",
        "\n",
        "def create_train_val_dirs(root_path):\n",
        "  os.makedirs(os.path.join(root_path, 'training'))\n",
        "  os.makedirs(os.path.join(f'{root_path}/training', 'ba'))\n",
        "  os.makedirs(os.path.join(f'{root_path}/training', 'ca'))\n",
        "  os.makedirs(os.path.join(f'{root_path}/training', 'da'))\n",
        "  os.makedirs(os.path.join(f'{root_path}/training', 'dha'))\n",
        "  os.makedirs(os.path.join(f'{root_path}/training', 'ga'))\n",
        "  os.makedirs(os.path.join(f'{root_path}/training', 'ha'))\n",
        "  os.makedirs(os.path.join(f'{root_path}/training', 'ja'))\n",
        "  os.makedirs(os.path.join(f'{root_path}/training', 'ka'))\n",
        "  os.makedirs(os.path.join(f'{root_path}/training', 'la'))\n",
        "  os.makedirs(os.path.join(f'{root_path}/training', 'ma'))\n",
        "  os.makedirs(os.path.join(f'{root_path}/training', 'na'))\n",
        "  os.makedirs(os.path.join(f'{root_path}/training', 'nga'))\n",
        "  os.makedirs(os.path.join(f'{root_path}/training', 'nya'))\n",
        "  os.makedirs(os.path.join(f'{root_path}/training', 'pa'))\n",
        "  os.makedirs(os.path.join(f'{root_path}/training', 'ra'))\n",
        "  os.makedirs(os.path.join(f'{root_path}/training', 'sa'))\n",
        "  os.makedirs(os.path.join(f'{root_path}/training', 'ta'))\n",
        "  os.makedirs(os.path.join(f'{root_path}/training', 'tha'))\n",
        "  os.makedirs(os.path.join(f'{root_path}/training', 'wa'))\n",
        "  os.makedirs(os.path.join(f'{root_path}/training', 'ya'))\n",
        "\n",
        "  os.makedirs(os.path.join(root_path, 'validation'))\n",
        "  os.makedirs(os.path.join(f'{root_path}/validation', 'ba'))\n",
        "  os.makedirs(os.path.join(f'{root_path}/validation', 'ca'))\n",
        "  os.makedirs(os.path.join(f'{root_path}/validation', 'da'))\n",
        "  os.makedirs(os.path.join(f'{root_path}/validation', 'dha'))\n",
        "  os.makedirs(os.path.join(f'{root_path}/validation', 'ga'))\n",
        "  os.makedirs(os.path.join(f'{root_path}/validation', 'ha'))\n",
        "  os.makedirs(os.path.join(f'{root_path}/validation', 'ja'))\n",
        "  os.makedirs(os.path.join(f'{root_path}/validation', 'ka'))\n",
        "  os.makedirs(os.path.join(f'{root_path}/validation', 'la'))\n",
        "  os.makedirs(os.path.join(f'{root_path}/validation', 'ma'))\n",
        "  os.makedirs(os.path.join(f'{root_path}/validation', 'na'))\n",
        "  os.makedirs(os.path.join(f'{root_path}/validation', 'nga'))\n",
        "  os.makedirs(os.path.join(f'{root_path}/validation', 'nya'))\n",
        "  os.makedirs(os.path.join(f'{root_path}/validation', 'pa'))\n",
        "  os.makedirs(os.path.join(f'{root_path}/validation', 'ra'))\n",
        "  os.makedirs(os.path.join(f'{root_path}/validation', 'sa'))\n",
        "  os.makedirs(os.path.join(f'{root_path}/validation', 'ta'))\n",
        "  os.makedirs(os.path.join(f'{root_path}/validation', 'tha'))\n",
        "  os.makedirs(os.path.join(f'{root_path}/validation', 'wa'))\n",
        "  os.makedirs(os.path.join(f'{root_path}/validation', 'ya'))\n",
        "\n",
        "create_train_val_dirs(root_dir)\n"
      ]
    },
    {
      "cell_type": "code",
      "execution_count": null,
      "metadata": {
        "id": "o2NLKDrwXfo5"
      },
      "outputs": [],
      "source": [
        "# Fungsi untuk Memisahkan Data Gambar menjadi Set Pelatihan dan Validasi\n",
        "def split_data(SOURCE_DIR, TRAINING_DIR, VALIDATION_DIR, SPLIT_SIZE):\n",
        "\n",
        "  shuffled_source = random.sample(os.listdir(SOURCE_DIR), len(os.listdir(SOURCE_DIR)))\n",
        "\n",
        "  training_number = int(len(shuffled_source) * SPLIT_SIZE) # Menghitung jumlah gambar yang akan disalin ke direktori training berdasarkan proporsi\n",
        "\n",
        "  i = 0\n",
        "  target = TRAINING_DIR\n",
        "\n",
        "  for item in shuffled_source:\n",
        "    item_source = os.path.join(SOURCE_DIR, item)\n",
        "    if os.path.getsize(item_source) == 0:\n",
        "      print(f'{item} is zero length, so ignoring.')\n",
        "    else:\n",
        "      copyfile(item_source, os.path.join(target, item))\n",
        "      i += 1\n",
        "\n",
        "    if i == training_number:\n",
        "      target = VALIDATION_DIR\n"
      ]
    },
    {
      "cell_type": "code",
      "execution_count": null,
      "metadata": {
        "colab": {
          "base_uri": "https://localhost:8080/"
        },
        "id": "vMuEfPDwXX3h",
        "outputId": "35203619-dca4-4bba-842d-b840442408f1"
      },
      "outputs": [
        {
          "name": "stdout",
          "output_type": "stream",
          "text": [
            "\n",
            "\n",
            "Original ba directory has 114 images\n",
            "Original ca directory has 108 images\n",
            "Original da directory has 108 images\n",
            "Original dha directory has 108 images\n",
            "Original ga directory has 108 images\n",
            "Original ha directory has 102 images\n",
            "Original ja directory has 108 images\n",
            "Original ka directory has 108 images\n",
            "Original la directory has 108 images\n",
            "Original ma directory has 108 images\n",
            "Original na directory has 108 images\n",
            "Original nga directory has 102 images\n",
            "Original nya directory has 108 images\n",
            "Original pa directory has 108 images\n",
            "Original ra directory has 108 images\n",
            "Original sa directory has 108 images\n",
            "Original ta directory has 108 images\n",
            "Original tha directory has 108 images\n",
            "Original wa directory has 108 images\n",
            "Original ya directory has 108 images\n",
            "\n",
            "There are 79 images of ba for training\n",
            "There are 75 images of ca for training\n",
            "There are 75 images of da for training\n",
            "There are 75 images of dha for training\n",
            "There are 75 images of ga for training\n",
            "There are 71 images of ha for training\n",
            "There are 75 images of ja for training\n",
            "There are 75 images of ka for training\n",
            "There are 75 images of la for training\n",
            "There are 75 images of ma for training\n",
            "There are 75 images of na for training\n",
            "There are 71 images of nga for training\n",
            "There are 75 images of nya for training\n",
            "There are 75 images of pa for training\n",
            "There are 75 images of ra for training\n",
            "There are 75 images of sa for training\n",
            "There are 75 images of ta for training\n",
            "There are 75 images of tha for training\n",
            "There are 75 images of wa for training\n",
            "There are 75 images of ya for training\n",
            "There are 35 images of ba for validation\n",
            "There are 33 images of ca for validation\n",
            "There are 33 images of da for validation\n",
            "There are 33 images of dha for validation\n",
            "There are 33 images of ga for validation\n",
            "There are 31 images of ha for validation\n",
            "There are 33 images of ja for validation\n",
            "There are 33 images of ka for validation\n",
            "There are 33 images of la for validation\n",
            "There are 33 images of ma for validation\n",
            "There are 33 images of na for validation\n",
            "There are 31 images of nga for validation\n",
            "There are 33 images of nya for validation\n",
            "There are 33 images of pa for validation\n",
            "There are 33 images of ra for validation\n",
            "There are 33 images of sa for validation\n",
            "There are 33 images of ta for validation\n",
            "There are 33 images of tha for validation\n",
            "There are 33 images of wa for validation\n",
            "There are 33 images of ya for validation\n"
          ]
        }
      ],
      "source": [
        "# Skrip untuk Mengatur dan Memisahkan Data Gambar ke Direktori Pelatihan dan Validasi\n",
        "\n",
        "# Jalur untuk mengakses dataset\n",
        "ba_SOURCE_DIR = source_path_ba\n",
        "ca_SOURCE_DIR = source_path_ca\n",
        "da_SOURCE_DIR = source_path_da\n",
        "dha_SOURCE_DIR = source_path_dha\n",
        "ga_SOURCE_DIR = source_path_ga\n",
        "ha_SOURCE_DIR = source_path_ha\n",
        "ja_SOURCE_DIR = source_path_ja\n",
        "ka_SOURCE_DIR = source_path_ka\n",
        "la_SOURCE_DIR = source_path_la\n",
        "ma_SOURCE_DIR = source_path_ma\n",
        "na_SOURCE_DIR = source_path_na\n",
        "nga_SOURCE_DIR = source_path_nga\n",
        "nya_SOURCE_DIR = source_path_nya\n",
        "pa_SOURCE_DIR = source_path_pa\n",
        "ra_SOURCE_DIR = source_path_ra\n",
        "sa_SOURCE_DIR = source_path_sa\n",
        "ta_SOURCE_DIR = source_path_ta\n",
        "tha_SOURCE_DIR = source_path_tha\n",
        "wa_SOURCE_DIR = source_path_wa\n",
        "ya_SOURCE_DIR = source_path_ya\n",
        "\n",
        "TRAINING_DIR = os.path.join(root_dir, 'training')\n",
        "VALIDATION_DIR = os.path.join(root_dir, 'validation')\n",
        "\n",
        "TRAINING_ba_DIR = os.path.join(TRAINING_DIR, 'ba')\n",
        "VALIDATION_ba_DIR = os.path.join(VALIDATION_DIR, 'ba')\n",
        "\n",
        "TRAINING_ca_DIR = os.path.join(TRAINING_DIR, 'ca')\n",
        "VALIDATION_ca_DIR = os.path.join(VALIDATION_DIR, 'ca')\n",
        "\n",
        "TRAINING_da_DIR = os.path.join(TRAINING_DIR, 'da')\n",
        "VALIDATION_da_DIR = os.path.join(VALIDATION_DIR, 'da')\n",
        "\n",
        "TRAINING_dha_DIR = os.path.join(TRAINING_DIR, 'dha')\n",
        "VALIDATION_dha_DIR = os.path.join(VALIDATION_DIR, 'dha')\n",
        "\n",
        "TRAINING_ga_DIR = os.path.join(TRAINING_DIR, 'ga')\n",
        "VALIDATION_ga_DIR = os.path.join(VALIDATION_DIR, 'ga')\n",
        "\n",
        "TRAINING_ha_DIR = os.path.join(TRAINING_DIR, 'ha')\n",
        "VALIDATION_ha_DIR = os.path.join(VALIDATION_DIR, 'ha')\n",
        "\n",
        "TRAINING_ja_DIR = os.path.join(TRAINING_DIR, 'ja')\n",
        "VALIDATION_ja_DIR = os.path.join(VALIDATION_DIR, 'ja')\n",
        "\n",
        "TRAINING_ka_DIR = os.path.join(TRAINING_DIR, 'ka')\n",
        "VALIDATION_ka_DIR = os.path.join(VALIDATION_DIR, 'ka')\n",
        "\n",
        "TRAINING_la_DIR = os.path.join(TRAINING_DIR, 'la')\n",
        "VALIDATION_la_DIR = os.path.join(VALIDATION_DIR, 'la')\n",
        "\n",
        "TRAINING_ma_DIR = os.path.join(TRAINING_DIR, 'ma')\n",
        "VALIDATION_ma_DIR = os.path.join(VALIDATION_DIR, 'ma')\n",
        "\n",
        "TRAINING_na_DIR = os.path.join(TRAINING_DIR, 'na')\n",
        "VALIDATION_na_DIR = os.path.join(VALIDATION_DIR, 'na')\n",
        "\n",
        "TRAINING_nga_DIR = os.path.join(TRAINING_DIR, 'nga')\n",
        "VALIDATION_nga_DIR = os.path.join(VALIDATION_DIR, 'nga')\n",
        "\n",
        "TRAINING_nya_DIR = os.path.join(TRAINING_DIR, 'nya')\n",
        "VALIDATION_nya_DIR = os.path.join(VALIDATION_DIR, 'nya')\n",
        "\n",
        "TRAINING_pa_DIR = os.path.join(TRAINING_DIR, 'pa')\n",
        "VALIDATION_pa_DIR = os.path.join(VALIDATION_DIR, 'pa')\n",
        "\n",
        "TRAINING_ra_DIR = os.path.join(TRAINING_DIR, 'ra')\n",
        "VALIDATION_ra_DIR = os.path.join(VALIDATION_DIR, 'ra')\n",
        "\n",
        "TRAINING_sa_DIR = os.path.join(TRAINING_DIR, 'sa')\n",
        "VALIDATION_sa_DIR = os.path.join(VALIDATION_DIR, 'sa')\n",
        "\n",
        "TRAINING_ta_DIR = os.path.join(TRAINING_DIR, 'ta')\n",
        "VALIDATION_ta_DIR = os.path.join(VALIDATION_DIR, 'ta')\n",
        "\n",
        "TRAINING_tha_DIR = os.path.join(TRAINING_DIR, 'tha')\n",
        "VALIDATION_tha_DIR = os.path.join(VALIDATION_DIR, 'tha')\n",
        "\n",
        "TRAINING_wa_DIR = os.path.join(TRAINING_DIR, 'wa')\n",
        "VALIDATION_wa_DIR = os.path.join(VALIDATION_DIR, 'wa')\n",
        "\n",
        "TRAINING_ya_DIR = os.path.join(TRAINING_DIR, 'ya')\n",
        "VALIDATION_ya_DIR = os.path.join(VALIDATION_DIR, 'ya')\n",
        "\n",
        "# Tentukan proporsi gambar yang digunakan untuk pelatihan\n",
        "split_size = 0.7\n",
        "\n",
        "# Menjalankan fungsi di atas\n",
        "split_data(ba_SOURCE_DIR, TRAINING_ba_DIR, VALIDATION_ba_DIR, split_size)\n",
        "split_data(ca_SOURCE_DIR, TRAINING_ca_DIR, VALIDATION_ca_DIR, split_size)\n",
        "split_data(da_SOURCE_DIR, TRAINING_da_DIR, VALIDATION_da_DIR, split_size)\n",
        "split_data(dha_SOURCE_DIR, TRAINING_dha_DIR, VALIDATION_dha_DIR, split_size)\n",
        "split_data(ga_SOURCE_DIR, TRAINING_ga_DIR, VALIDATION_ga_DIR, split_size)\n",
        "split_data(ha_SOURCE_DIR, TRAINING_ha_DIR, VALIDATION_ha_DIR, split_size)\n",
        "split_data(ja_SOURCE_DIR, TRAINING_ja_DIR, VALIDATION_ja_DIR, split_size)\n",
        "split_data(ka_SOURCE_DIR, TRAINING_ka_DIR, VALIDATION_ka_DIR, split_size)\n",
        "split_data(la_SOURCE_DIR, TRAINING_la_DIR, VALIDATION_la_DIR, split_size)\n",
        "split_data(ma_SOURCE_DIR, TRAINING_ma_DIR, VALIDATION_ma_DIR, split_size)\n",
        "split_data(na_SOURCE_DIR, TRAINING_na_DIR, VALIDATION_na_DIR, split_size)\n",
        "split_data(nga_SOURCE_DIR, TRAINING_nga_DIR, VALIDATION_nga_DIR, split_size)\n",
        "split_data(nya_SOURCE_DIR, TRAINING_nya_DIR, VALIDATION_nya_DIR, split_size)\n",
        "split_data(pa_SOURCE_DIR, TRAINING_pa_DIR, VALIDATION_pa_DIR, split_size)\n",
        "split_data(ra_SOURCE_DIR, TRAINING_ra_DIR, VALIDATION_ra_DIR, split_size)\n",
        "split_data(sa_SOURCE_DIR, TRAINING_sa_DIR, VALIDATION_sa_DIR, split_size)\n",
        "split_data(ta_SOURCE_DIR, TRAINING_ta_DIR, VALIDATION_ta_DIR, split_size)\n",
        "split_data(tha_SOURCE_DIR, TRAINING_tha_DIR, VALIDATION_tha_DIR, split_size)\n",
        "split_data(wa_SOURCE_DIR, TRAINING_wa_DIR, VALIDATION_wa_DIR, split_size)\n",
        "split_data(ya_SOURCE_DIR, TRAINING_ya_DIR, VALIDATION_ya_DIR, split_size)\n",
        "\n",
        "# Untuk melihat apakah kode di atas berjalan sesuai perintah\n",
        "print(f\"\\n\\nOriginal ba directory has {len(os.listdir(ba_SOURCE_DIR))} images\")\n",
        "print(f\"Original ca directory has {len(os.listdir(ca_SOURCE_DIR))} images\")\n",
        "print(f\"Original da directory has {len(os.listdir(da_SOURCE_DIR))} images\")\n",
        "print(f\"Original dha directory has {len(os.listdir(dha_SOURCE_DIR))} images\")\n",
        "print(f\"Original ga directory has {len(os.listdir(ga_SOURCE_DIR))} images\")\n",
        "print(f\"Original ha directory has {len(os.listdir(ha_SOURCE_DIR))} images\")\n",
        "print(f\"Original ja directory has {len(os.listdir(ja_SOURCE_DIR))} images\")\n",
        "print(f\"Original ka directory has {len(os.listdir(ka_SOURCE_DIR))} images\")\n",
        "print(f\"Original la directory has {len(os.listdir(la_SOURCE_DIR))} images\")\n",
        "print(f\"Original ma directory has {len(os.listdir(ma_SOURCE_DIR))} images\")\n",
        "print(f\"Original na directory has {len(os.listdir(na_SOURCE_DIR))} images\")\n",
        "print(f\"Original nga directory has {len(os.listdir(nga_SOURCE_DIR))} images\")\n",
        "print(f\"Original nya directory has {len(os.listdir(nya_SOURCE_DIR))} images\")\n",
        "print(f\"Original pa directory has {len(os.listdir(pa_SOURCE_DIR))} images\")\n",
        "print(f\"Original ra directory has {len(os.listdir(ra_SOURCE_DIR))} images\")\n",
        "print(f\"Original sa directory has {len(os.listdir(sa_SOURCE_DIR))} images\")\n",
        "print(f\"Original ta directory has {len(os.listdir(ta_SOURCE_DIR))} images\")\n",
        "print(f\"Original tha directory has {len(os.listdir(tha_SOURCE_DIR))} images\")\n",
        "print(f\"Original wa directory has {len(os.listdir(wa_SOURCE_DIR))} images\")\n",
        "print(f\"Original ya directory has {len(os.listdir(ya_SOURCE_DIR))} images\\n\")\n",
        "\n",
        "# Melihat jumlah data yang sudah dibagi\n",
        "print(f\"There are {len(os.listdir(TRAINING_ba_DIR))} images of ba for training\")\n",
        "print(f\"There are {len(os.listdir(TRAINING_ca_DIR))} images of ca for training\")\n",
        "print(f\"There are {len(os.listdir(TRAINING_da_DIR))} images of da for training\")\n",
        "print(f\"There are {len(os.listdir(TRAINING_dha_DIR))} images of dha for training\")\n",
        "print(f\"There are {len(os.listdir(TRAINING_ga_DIR))} images of ga for training\")\n",
        "print(f\"There are {len(os.listdir(TRAINING_ha_DIR))} images of ha for training\")\n",
        "print(f\"There are {len(os.listdir(TRAINING_ja_DIR))} images of ja for training\")\n",
        "print(f\"There are {len(os.listdir(TRAINING_ka_DIR))} images of ka for training\")\n",
        "print(f\"There are {len(os.listdir(TRAINING_la_DIR))} images of la for training\")\n",
        "print(f\"There are {len(os.listdir(TRAINING_ma_DIR))} images of ma for training\")\n",
        "print(f\"There are {len(os.listdir(TRAINING_na_DIR))} images of na for training\")\n",
        "print(f\"There are {len(os.listdir(TRAINING_nga_DIR))} images of nga for training\")\n",
        "print(f\"There are {len(os.listdir(TRAINING_nya_DIR))} images of nya for training\")\n",
        "print(f\"There are {len(os.listdir(TRAINING_pa_DIR))} images of pa for training\")\n",
        "print(f\"There are {len(os.listdir(TRAINING_ra_DIR))} images of ra for training\")\n",
        "print(f\"There are {len(os.listdir(TRAINING_sa_DIR))} images of sa for training\")\n",
        "print(f\"There are {len(os.listdir(TRAINING_ta_DIR))} images of ta for training\")\n",
        "print(f\"There are {len(os.listdir(TRAINING_tha_DIR))} images of tha for training\")\n",
        "print(f\"There are {len(os.listdir(TRAINING_wa_DIR))} images of wa for training\")\n",
        "print(f\"There are {len(os.listdir(TRAINING_ya_DIR))} images of ya for training\")\n",
        "\n",
        "\n",
        "print(f\"There are {len(os.listdir(VALIDATION_ba_DIR))} images of ba for validation\")\n",
        "print(f\"There are {len(os.listdir(VALIDATION_ca_DIR))} images of ca for validation\")\n",
        "print(f\"There are {len(os.listdir(VALIDATION_da_DIR))} images of da for validation\")\n",
        "print(f\"There are {len(os.listdir(VALIDATION_dha_DIR))} images of dha for validation\")\n",
        "print(f\"There are {len(os.listdir(VALIDATION_ga_DIR))} images of ga for validation\")\n",
        "print(f\"There are {len(os.listdir(VALIDATION_ha_DIR))} images of ha for validation\")\n",
        "print(f\"There are {len(os.listdir(VALIDATION_ja_DIR))} images of ja for validation\")\n",
        "print(f\"There are {len(os.listdir(VALIDATION_ka_DIR))} images of ka for validation\")\n",
        "print(f\"There are {len(os.listdir(VALIDATION_la_DIR))} images of la for validation\")\n",
        "print(f\"There are {len(os.listdir(VALIDATION_ma_DIR))} images of ma for validation\")\n",
        "print(f\"There are {len(os.listdir(VALIDATION_na_DIR))} images of na for validation\")\n",
        "print(f\"There are {len(os.listdir(VALIDATION_nga_DIR))} images of nga for validation\")\n",
        "print(f\"There are {len(os.listdir(VALIDATION_nya_DIR))} images of nya for validation\")\n",
        "print(f\"There are {len(os.listdir(VALIDATION_pa_DIR))} images of pa for validation\")\n",
        "print(f\"There are {len(os.listdir(VALIDATION_ra_DIR))} images of ra for validation\")\n",
        "print(f\"There are {len(os.listdir(VALIDATION_sa_DIR))} images of sa for validation\")\n",
        "print(f\"There are {len(os.listdir(VALIDATION_ta_DIR))} images of ta for validation\")\n",
        "print(f\"There are {len(os.listdir(VALIDATION_tha_DIR))} images of tha for validation\")\n",
        "print(f\"There are {len(os.listdir(VALIDATION_wa_DIR))} images of wa for validation\")\n",
        "print(f\"There are {len(os.listdir(VALIDATION_ya_DIR))} images of ya for validation\")\n"
      ]
    },
    {
      "cell_type": "code",
      "execution_count": null,
      "metadata": {
        "id": "IMhUUPlxZQ_w"
      },
      "outputs": [],
      "source": [
        "#  Membuat generator data pelatihan dan validasi\n",
        "\n",
        "  \"\"\"Argumen:\n",
        "    TRAINING_DIR (string): jalur direktori yang berisi gambar pelatihan\n",
        "    VALIDATION_DIR (string): jalur direktori yang berisi gambar pengujian/validasi\n",
        "\n",
        "  Pengembalian:\n",
        "    train_generator, validation_generator - tupel yang berisi generator\"\"\"\n",
        "\n",
        "\n",
        "def train_val_generators(TRAINING_DIR, VALIDATION_DIR):\n",
        "\n",
        "  train_datagen = ImageDataGenerator(rescale=1./255,\n",
        "                                     rotation_range=20,\n",
        "                                     zoom_range=0.2,\n",
        "                                     shear_range=0.1)\n",
        "\n",
        "  train_generator = train_datagen.flow_from_directory(directory=TRAINING_DIR,\n",
        "                                                      target_size=(64, 64),\n",
        "                                                      batch_size=32,\n",
        "                                                      class_mode='categorical')\n",
        "\n",
        "  validation_datagen = ImageDataGenerator(rescale=1./255.)\n",
        "\n",
        "  validation_generator = validation_datagen.flow_from_directory(directory=VALIDATION_DIR,\n",
        "                                                                target_size=(64, 64),\n",
        "                                                                batch_size=32,\n",
        "                                                                class_mode='categorical')\n",
        "\n",
        "  return train_generator, validation_generator\n"
      ]
    },
    {
      "cell_type": "code",
      "execution_count": null,
      "metadata": {
        "colab": {
          "base_uri": "https://localhost:8080/"
        },
        "id": "G9P4y5DnaSDa",
        "outputId": "f01b42c4-f367-4f9e-a1a0-f860a27afeac"
      },
      "outputs": [
        {
          "name": "stdout",
          "output_type": "stream",
          "text": [
            "Found 1496 images belonging to 20 classes.\n",
            "Found 658 images belonging to 20 classes.\n"
          ]
        }
      ],
      "source": [
        "\" Untuk Mengecek Generator Pelatihan dan Validasi untuk Direktori Data Gambar\"\n",
        "train_generator, validation_generator = train_val_generators(TRAINING_DIR, VALIDATION_DIR)"
      ]
    },
    {
      "cell_type": "markdown",
      "metadata": {
        "id": "kKOjBJbmjftw"
      },
      "source": [
        "Menggunakan metode tensorflow!!"
      ]
    },
    {
      "cell_type": "code",
      "execution_count": null,
      "metadata": {
        "id": "jxs4LzKpjfYU"
      },
      "outputs": [],
      "source": [
        "# Definisi dan Kompilasi Model Convolutional Neural Network (CNN) atau model cnn\n",
        "\n",
        "def create_model():\n",
        "  model = tf.keras.models.Sequential([\n",
        "      tf.keras.layers.Conv2D(16, (3, 3), activation='relu', input_shape=(64, 64, 3)),\n",
        "      tf.keras.layers.MaxPooling2D(2, 2),\n",
        "      tf.keras.layers.Conv2D(32, (3, 3), activation='relu'),\n",
        "      tf.keras.layers.MaxPooling2D(2, 2),\n",
        "      tf.keras.layers.Conv2D(64, (3, 3), activation='relu'),\n",
        "      tf.keras.layers.MaxPooling2D(2, 2),\n",
        "      tf.keras.layers.Flatten(),\n",
        "      tf.keras.layers.Dense(512, activation='relu'),\n",
        "      tf.keras.layers.Dense(20, activation='softmax')\n",
        "  ])\n",
        "\n",
        "  model.summary()\n",
        "\n",
        "  from tensorflow.keras.optimizers import Adam\n",
        "\n",
        "  model.compile(optimizer=Adam(learning_rate=0.001),\n",
        "                loss='categorical_crossentropy',\n",
        "                metrics=['accuracy'])\n",
        "\n",
        "  return model"
      ]
    },
    {
      "cell_type": "code",
      "execution_count": null,
      "metadata": {
        "colab": {
          "base_uri": "https://localhost:8080/"
        },
        "id": "QZbdp21E_ic4",
        "outputId": "a52b666b-82ea-478a-e101-b353565c2d60"
      },
      "outputs": [
        {
          "name": "stdout",
          "output_type": "stream",
          "text": [
            "Model: \"sequential_5\"\n",
            "_________________________________________________________________\n",
            " Layer (type)                Output Shape              Param #   \n",
            "=================================================================\n",
            " conv2d_15 (Conv2D)          (None, 62, 62, 16)        448       \n",
            "                                                                 \n",
            " max_pooling2d_15 (MaxPooli  (None, 31, 31, 16)        0         \n",
            " ng2D)                                                           \n",
            "                                                                 \n",
            " conv2d_16 (Conv2D)          (None, 29, 29, 32)        4640      \n",
            "                                                                 \n",
            " max_pooling2d_16 (MaxPooli  (None, 14, 14, 32)        0         \n",
            " ng2D)                                                           \n",
            "                                                                 \n",
            " conv2d_17 (Conv2D)          (None, 12, 12, 64)        18496     \n",
            "                                                                 \n",
            " max_pooling2d_17 (MaxPooli  (None, 6, 6, 64)          0         \n",
            " ng2D)                                                           \n",
            "                                                                 \n",
            " flatten_5 (Flatten)         (None, 2304)              0         \n",
            "                                                                 \n",
            " dense_10 (Dense)            (None, 512)               1180160   \n",
            "                                                                 \n",
            " dense_11 (Dense)            (None, 20)                10260     \n",
            "                                                                 \n",
            "=================================================================\n",
            "Total params: 1214004 (4.63 MB)\n",
            "Trainable params: 1214004 (4.63 MB)\n",
            "Non-trainable params: 0 (0.00 Byte)\n",
            "_________________________________________________________________\n"
          ]
        }
      ],
      "source": [
        "# Menampilkan Arsitektur dan Detail Parameter Model Convolutional Neural Network\n",
        "\n",
        "model = create_model()"
      ]
    },
    {
      "cell_type": "code",
      "execution_count": null,
      "metadata": {
        "colab": {
          "base_uri": "https://localhost:8080/"
        },
        "id": "ytmHPAnnjw-p",
        "outputId": "6eea92b3-cfa0-4f06-9faf-57d56523bebb"
      },
      "outputs": [
        {
          "name": "stdout",
          "output_type": "stream",
          "text": [
            "Epoch 1/15\n",
            "47/47 [==============================] - 21s 432ms/step - loss: 2.9759 - accuracy: 0.0689 - val_loss: 2.6576 - val_accuracy: 0.1216\n",
            "Epoch 2/15\n",
            "47/47 [==============================] - 18s 381ms/step - loss: 2.0290 - accuracy: 0.3703 - val_loss: 1.2262 - val_accuracy: 0.6535\n",
            "Epoch 3/15\n",
            "47/47 [==============================] - 19s 402ms/step - loss: 1.1414 - accuracy: 0.6618 - val_loss: 1.3410 - val_accuracy: 0.6565\n",
            "Epoch 4/15\n",
            "47/47 [==============================] - 24s 516ms/step - loss: 0.6446 - accuracy: 0.7948 - val_loss: 0.7738 - val_accuracy: 0.7751\n",
            "Epoch 5/15\n",
            "47/47 [==============================] - 18s 374ms/step - loss: 0.4905 - accuracy: 0.8349 - val_loss: 0.3851 - val_accuracy: 0.8891\n",
            "Epoch 6/15\n",
            "47/47 [==============================] - 19s 408ms/step - loss: 0.3703 - accuracy: 0.8797 - val_loss: 0.2432 - val_accuracy: 0.9255\n",
            "Epoch 7/15\n",
            "47/47 [==============================] - 20s 422ms/step - loss: 0.2570 - accuracy: 0.9158 - val_loss: 0.2199 - val_accuracy: 0.9119\n",
            "Epoch 8/15\n",
            "47/47 [==============================] - 18s 393ms/step - loss: 0.2058 - accuracy: 0.9311 - val_loss: 0.2555 - val_accuracy: 0.9331\n",
            "Epoch 9/15\n",
            "47/47 [==============================] - 17s 365ms/step - loss: 0.1795 - accuracy: 0.9432 - val_loss: 0.1782 - val_accuracy: 0.9377\n",
            "Epoch 10/15\n",
            "47/47 [==============================] - 18s 375ms/step - loss: 0.1652 - accuracy: 0.9452 - val_loss: 0.1094 - val_accuracy: 0.9605\n",
            "Epoch 11/15\n",
            "47/47 [==============================] - 20s 432ms/step - loss: 0.1452 - accuracy: 0.9519 - val_loss: 0.0701 - val_accuracy: 0.9696\n",
            "Epoch 12/15\n",
            "47/47 [==============================] - 17s 367ms/step - loss: 0.1008 - accuracy: 0.9619 - val_loss: 0.1951 - val_accuracy: 0.9483\n",
            "Epoch 13/15\n",
            "47/47 [==============================] - 19s 405ms/step - loss: 0.1071 - accuracy: 0.9619 - val_loss: 0.0714 - val_accuracy: 0.9696\n",
            "Epoch 14/15\n",
            "47/47 [==============================] - 17s 366ms/step - loss: 0.0887 - accuracy: 0.9693 - val_loss: 0.1589 - val_accuracy: 0.9514\n",
            "Epoch 15/15\n",
            "47/47 [==============================] - 19s 405ms/step - loss: 0.0627 - accuracy: 0.9813 - val_loss: 0.1134 - val_accuracy: 0.9559\n"
          ]
        }
      ],
      "source": [
        "# Pelatihan dan Evaluasi Model CNN dengan Data Generator\n",
        "history = model.fit(\n",
        "    train_generator,\n",
        "    steps_per_epoch=len(train_generator),\n",
        "    epochs=15,\n",
        "    validation_data=validation_generator,\n",
        "    validation_steps=len(validation_generator)\n",
        ")"
      ]
    },
    {
      "cell_type": "code",
      "execution_count": null,
      "metadata": {
        "colab": {
          "base_uri": "https://localhost:8080/",
          "height": 887
        },
        "id": "Zw_O06RnldKL",
        "outputId": "3a4102f5-4623-410f-f217-98cb841ffde8"
      },
      "outputs": [
        {
          "data": {
            "image/png": "[encoded data removed]",
            "text/plain": [
              "<Figure size 640x480 with 1 Axes>"
            ]
          },
          "metadata": {},
          "output_type": "display_data"
        },
        {
          "data": {
            "image/png": "[encoded data removed]",
            "text/plain": [
              "<Figure size 640x480 with 1 Axes>"
            ]
          },
          "metadata": {},
          "output_type": "display_data"
        }
      ],
      "source": [
        "# Menampilkan Grafik untuk melihat akurasi dan loss pada proses pelatihan dan validasi model CNN\n",
        "acc = history.history['accuracy']\n",
        "val_acc = history.history['val_accuracy']\n",
        "loss = history.history['loss']\n",
        "val_loss = history.history['val_loss']\n",
        "\n",
        "epochs = range(len(acc))\n",
        "\n",
        "plt.plot(epochs, acc, 'r', label=\"Training Accuracy\")\n",
        "plt.plot(epochs, val_acc, 'b', label=\"Validation Accuracy\")\n",
        "plt.title('Training and validation accuracy')\n",
        "plt.legend()\n",
        "plt.show()\n",
        "\n",
        "plt.plot(epochs, loss, 'r', label=\"Training Loss\")\n",
        "plt.plot(epochs, val_loss, 'b', label=\"Validation Loss\")\n",
        "plt.title('Training and validation loss')\n",
        "plt.legend()\n",
        "plt.show()\n"
      ]
    },
    {
      "cell_type": "code",
      "execution_count": null,
      "metadata": {
        "colab": {
          "base_uri": "https://localhost:8080/"
        },
        "id": "Ybc80itpoRdI",
        "outputId": "fdb73735-f66b-456f-c8a2-51651acb487f"
      },
      "outputs": [
        {
          "name": "stderr",
          "output_type": "stream",
          "text": [
            "/usr/local/lib/python3.10/dist-packages/keras/src/engine/training.py:3103: UserWarning: You are saving your model as an HDF5 file via `model.save()`. This file format is considered legacy. We recommend using instead the native Keras format, e.g. `model.save('my_model.keras')`.\n",
            "  saving_api.save_model(\n"
          ]
        }
      ],
      "source": [
        "model.save('path_to_save_model.h5')"
      ]
    }
  ],
  "metadata": {
    "colab": {
      "provenance": [],
      "include_colab_link": true
    },
    "kernelspec": {
      "display_name": "Python 3",
      "name": "python3"
    },
    "language_info": {
      "name": "python"
    }
  },
  "nbformat": 4,
  "nbformat_minor": 0
}